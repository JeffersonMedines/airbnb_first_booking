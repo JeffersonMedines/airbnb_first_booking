{
 "cells": [
  {
   "cell_type": "markdown",
   "id": "51d12223",
   "metadata": {},
   "source": [
    "# 1.0 Solution Planning"
   ]
  },
  {
   "cell_type": "markdown",
   "id": "39e127f0",
   "metadata": {
    "ExecuteTime": {
     "end_time": "2023-02-13T20:50:02.879222Z",
     "start_time": "2023-02-13T20:50:02.875703Z"
    }
   },
   "source": [
    "## 1.1 Problem Understanding"
   ]
  },
  {
   "cell_type": "markdown",
   "id": "97167a07",
   "metadata": {},
   "source": [
    "-- Objetivo do Problema:\n",
    "    \n",
    "    -- 1.0 Previsão do primeiro destino que um usuário irá escolher.\n",
    "    \n",
    "    -- Porque?\n",
    "        -- Qual tipo de modelo de negócio do Airbnb?\n",
    "            -- Marketplace (conctar pessoas que opferecem acomodação com pessoas que estão procurando acomodação.)\n",
    "                -- Oferta (pessoas oferecendo acomodação)\n",
    "                    -- Tamanho do portfólio (quantas acomodações a plataforma possui)\n",
    "                    -- Diversidade/Densidade de portfólio.\n",
    "                    -- Preço médio.\n",
    "                    \n",
    "                -- Demanda (pessoas prourando acomodação)\n",
    "                    -- Número de usuários.\n",
    "                    -- LTV (Lifetime Value).\n",
    "                    -- CAC (Client Aquisition Cost).\n",
    "                    \n",
    "                    Gross Revenue = ( Fee * Clientes ) - CAC"
   ]
  },
  {
   "cell_type": "markdown",
   "id": "863b7fad",
   "metadata": {},
   "source": [
    "## 1.2 Proposed Solution"
   ]
  },
  {
   "cell_type": "markdown",
   "id": "d0f9e444",
   "metadata": {},
   "source": [
    "-- Proposta de Solução: \n",
    "    \n",
    "    -- Modelo de Previsão do primeiro destino do usuário.\n",
    "    \n",
    "        -- 1. Realizar as predições e salvar em um banco de dados, e conectar uma ferramente de visualização nesse banco de dados para mostrar a previsão.\n",
    "        \n",
    "        -- 2. Construir uma API\n",
    "            -- Input da API: Os dados dos usuários e suas características.\n",
    "            -- Output da API: Os dados dos usuários, suas características e a predição do destino que o usuário fará."
   ]
  },
  {
   "cell_type": "code",
   "execution_count": null,
   "id": "dbfd3c59",
   "metadata": {},
   "outputs": [],
   "source": []
  },
  {
   "cell_type": "code",
   "execution_count": null,
   "id": "add2b9d2",
   "metadata": {},
   "outputs": [],
   "source": []
  },
  {
   "cell_type": "code",
   "execution_count": null,
   "id": "70bcac5a",
   "metadata": {},
   "outputs": [],
   "source": []
  },
  {
   "cell_type": "code",
   "execution_count": null,
   "id": "683e44f3",
   "metadata": {},
   "outputs": [],
   "source": []
  },
  {
   "cell_type": "code",
   "execution_count": null,
   "id": "5e9336c6",
   "metadata": {},
   "outputs": [],
   "source": []
  },
  {
   "cell_type": "code",
   "execution_count": null,
   "id": "fb840118",
   "metadata": {},
   "outputs": [],
   "source": []
  },
  {
   "cell_type": "code",
   "execution_count": null,
   "id": "930df96b",
   "metadata": {},
   "outputs": [],
   "source": []
  },
  {
   "cell_type": "code",
   "execution_count": null,
   "id": "81e5add0",
   "metadata": {},
   "outputs": [],
   "source": []
  },
  {
   "cell_type": "code",
   "execution_count": null,
   "id": "a2fc69d4",
   "metadata": {},
   "outputs": [],
   "source": []
  },
  {
   "cell_type": "code",
   "execution_count": null,
   "id": "e2c7081c",
   "metadata": {},
   "outputs": [],
   "source": []
  }
 ],
 "metadata": {
  "kernelspec": {
   "display_name": "pa001_airbnb_first_booking",
   "language": "python",
   "name": "pa001_airbnb_first_booking"
  },
  "language_info": {
   "codemirror_mode": {
    "name": "ipython",
    "version": 3
   },
   "file_extension": ".py",
   "mimetype": "text/x-python",
   "name": "python",
   "nbconvert_exporter": "python",
   "pygments_lexer": "ipython3",
   "version": "3.8.10"
  }
 },
 "nbformat": 4,
 "nbformat_minor": 5
}
